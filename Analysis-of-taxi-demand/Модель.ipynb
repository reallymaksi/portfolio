{
 "cells": [
  {
   "cell_type": "markdown",
   "id": "f0c4043f",
   "metadata": {
    "toc": true
   },
   "source": [
    "<h1>Table of Contents<span class=\"tocSkip\"></span></h1>\n",
    "<div class=\"toc\"><ul class=\"toc-item\"><li><span><a href=\"#Загрузка-данных\" data-toc-modified-id=\"Загрузка-данных-1\"><span class=\"toc-item-num\">1&nbsp;&nbsp;</span>Загрузка данных</a></span></li><li><span><a href=\"#Feature-engineering\" data-toc-modified-id=\"Feature-engineering-2\"><span class=\"toc-item-num\">2&nbsp;&nbsp;</span>Feature engineering</a></span></li><li><span><a href=\"#Модели\" data-toc-modified-id=\"Модели-3\"><span class=\"toc-item-num\">3&nbsp;&nbsp;</span>Модели</a></span><ul class=\"toc-item\"><li><span><a href=\"#Ridge\" data-toc-modified-id=\"Ridge-3.1\"><span class=\"toc-item-num\">3.1&nbsp;&nbsp;</span>Ridge</a></span></li><li><span><a href=\"#RandomForestRegressor\" data-toc-modified-id=\"RandomForestRegressor-3.2\"><span class=\"toc-item-num\">3.2&nbsp;&nbsp;</span>RandomForestRegressor</a></span></li><li><span><a href=\"#CatBoost\" data-toc-modified-id=\"CatBoost-3.3\"><span class=\"toc-item-num\">3.3&nbsp;&nbsp;</span>CatBoost</a></span><ul class=\"toc-item\"><li><span><a href=\"#CatBoost-с-Кросс-Валидацией\" data-toc-modified-id=\"CatBoost-с-Кросс-Валидацией-3.3.1\"><span class=\"toc-item-num\">3.3.1&nbsp;&nbsp;</span>CatBoost с Кросс-Валидацией</a></span></li></ul></li><li><span><a href=\"#XGBRegressor\" data-toc-modified-id=\"XGBRegressor-3.4\"><span class=\"toc-item-num\">3.4&nbsp;&nbsp;</span>XGBRegressor</a></span></li><li><span><a href=\"#ETNA\" data-toc-modified-id=\"ETNA-3.5\"><span class=\"toc-item-num\">3.5&nbsp;&nbsp;</span>ETNA</a></span><ul class=\"toc-item\"><li><span><a href=\"#Без-экзогенных-данных\" data-toc-modified-id=\"Без-экзогенных-данных-3.5.1\"><span class=\"toc-item-num\">3.5.1&nbsp;&nbsp;</span>Без экзогенных данных</a></span></li><li><span><a href=\"#C-экзогенными-данными\" data-toc-modified-id=\"C-экзогенными-данными-3.5.2\"><span class=\"toc-item-num\">3.5.2&nbsp;&nbsp;</span>C экзогенными данными</a></span></li></ul></li></ul></li><li><span><a href=\"#Общий-вывод:\" data-toc-modified-id=\"Общий-вывод:-4\"><span class=\"toc-item-num\">4&nbsp;&nbsp;</span>Общий вывод:</a></span></li></ul></div>"
   ]
  },
  {
   "cell_type": "markdown",
   "id": "f659288b",
   "metadata": {
    "heading_collapsed": true
   },
   "source": [
    "## Загрузка данных"
   ]
  },
  {
   "cell_type": "code",
   "execution_count": null,
   "id": "2b642db3",
   "metadata": {
    "hidden": true
   },
   "outputs": [],
   "source": [
    "import warnings\n",
    "\n",
    "warnings.filterwarnings(\"ignore\", category=FutureWarning)\n",
    "warnings.filterwarnings(\"ignore\", category=DeprecationWarning)\n",
    "warnings.filterwarnings(\"ignore\", category=UserWarning, module=\"etna.settings\")\n",
    "\n",
    "\n",
    "import json\n",
    "import time\n",
    "import folium\n",
    "import requests\n",
    "import seaborn as sns\n",
    "import geopandas as gpd\n",
    "import matplotlib.pyplot as plt\n",
    "import numpy as np\n",
    "import pandas as pd\n",
    "import plotly.express as px\n",
    "import plotly.graph_objects as go\n",
    "import scipy.stats as stats\n",
    "from plotly.subplots import make_subplots\n",
    "from matplotlib.ticker import FuncFormatter\n",
    "from datetime import datetime, timedelta\n",
    "from catboost import CatBoostRegressor\n",
    "from xgboost import XGBRegressor\n",
    "from sklearn.model_selection import TimeSeriesSplit\n",
    "from sklearn.metrics import mean_absolute_error, mean_squared_error, r2_score \n",
    "from sklearn.linear_model import Ridge\n",
    "from sklearn.ensemble import RandomForestRegressor\n",
    "from sklearn.pipeline import Pipeline\n",
    "from sklearn.compose import ColumnTransformer\n",
    "from sklearn.preprocessing import StandardScaler, OneHotEncoder, OrdinalEncoder\n",
    "from sklearn.model_selection import RandomizedSearchCV"
   ]
  },
  {
   "cell_type": "code",
   "execution_count": null,
   "id": "95797ce1",
   "metadata": {
    "hidden": true
   },
   "outputs": [],
   "source": [
    "# Выведем все поля\n",
    "pd.set_option('display.max_rows', None)\n",
    "pd.set_option('display.max_columns', None)\n",
    "pd.set_option('display.width', 1000)\n",
    "pd.set_option('display.max_colwidth', None)\n",
    "\n",
    "#Загружаем основной датасет\n",
    "yandex_disk_url = \"https://disk.yandex.ru/d/M1Yk0D6IfHis2A\"\n",
    "response = requests.get(\"https://cloud-api.yandex.net/v1/disk/public/resources/download\",\n",
    "                        params={\"public_key\": yandex_disk_url})\n",
    "\n",
    "download_url = response.json()[\"href\"]\n",
    "\n",
    "main_df = pd.read_csv(download_url\n",
    "                      , parse_dates=['timestamp']\n",
    "                      , sep=',')\n",
    "\n",
    "main_df.head()"
   ]
  },
  {
   "cell_type": "code",
   "execution_count": null,
   "id": "085573b1",
   "metadata": {
    "hidden": true
   },
   "outputs": [],
   "source": [
    "# Население районов за 2024год, обновляем данные\n",
    "# Источник https://77.rosstat.gov.ru/folder/64634 \n",
    "\n",
    "population_2024 = {\n",
    "    'Академический район': 114932,\n",
    "    'Алексеевский район': 79377,\n",
    "    'Алтуфьевский район': 56008,\n",
    "    'Бабушкинский район': 90087,\n",
    "    'Басманный район': 112320,\n",
    "    'Бескудниковский район': 81647,\n",
    "    'Бутырский район': 72177,\n",
    "    'Войковский район': 72588,\n",
    "    'Гагаринский район': 80211,\n",
    "    'Головинский район': 109389,\n",
    "    'Даниловский район': 104718,\n",
    "    'Дмитровский район': 104847,\n",
    "    'Донской район': 51202,\n",
    "    'Краснопахорский район': 36136,\n",
    "    'Красносельский район': 46340,\n",
    "    'Ломоносовский район': 86867,\n",
    "    'Лосиноостровский район': 83779,\n",
    "    'Мещанский район': 55669,\n",
    "    'Можайский район': 146666,\n",
    "    'Молжаниновский район': 14907,\n",
    "    'Нагорный район': 76015,\n",
    "    'Нижегородский район': 52114,\n",
    "    'Ново-Переделкино': 121741,\n",
    "    'Обручевский район': 91308,\n",
    "    'Орехово-Борисово Южное': 146515,\n",
    "    'Останкинский район': 65211,\n",
    "    'Пресненский район': 129041,\n",
    "    'Рязанский район': 109884,\n",
    "    'Савёловский район': 61147,\n",
    "    'Таганский район': 134535,\n",
    "    'Тверской район': 76889,\n",
    "    'Тимирязевский район': 84168,\n",
    "    'Тропарёво-Никулино': 129268,\n",
    "    'Филимонковский район': 137565,\n",
    "    'Хорошёвский район': 76407,\n",
    "    'Южнопортовый район': 73321,\n",
    "    'Ярославский район': 99398,\n",
    "    'район Арбат': 36942,\n",
    "    'район Аэропорт': 82804,\n",
    "    'район Беговой': 43662,\n",
    "    'район Бекасово': 35814,\n",
    "    'район Бибирево': 159377,\n",
    "    'район Бирюлёво Восточное': 155760,\n",
    "    'район Бирюлёво Западное': 84910,\n",
    "    'район Богородское': 108907,\n",
    "    'район Братеево': 100282,\n",
    "    'район Вешняки': 121088,\n",
    "    'район Внуково': 128383,\n",
    "    'район Вороново': 27777,\n",
    "    'район Восточное Дегунино': 101126,\n",
    "    'район Восточное Измайлово': 74200,\n",
    "    'район Восточный': 12611,\n",
    "    'район Выхино-Жулебино': 242376,\n",
    "    'район Гольяново': 164305,\n",
    "    'район Дорогомилово': 76571,\n",
    "    'район Замоскворечье': 56230,\n",
    "    'район Западное Дегунино': 85448,\n",
    "    'район Зюзино': 124371,\n",
    "    'район Зябликово': 133650,\n",
    "    'район Ивановское': 125211,\n",
    "    'район Измайлово': 110331,\n",
    "    'район Капотня': 32128,\n",
    "    'район Коммунарка': 180477,\n",
    "    'район Коньково': 154105,\n",
    "    'район Коптево': 104775,\n",
    "    'район Косино-Ухтомский': 90207,\n",
    "    'район Котловка': 66304,\n",
    "    'район Крылатское': 83465,\n",
    "    'район Крюково': 115081,\n",
    "    'район Кузьминки': 140738,\n",
    "    'район Кунцево': 152171,\n",
    "    'район Куркино': 33676,\n",
    "    'район Левобережный': 56573,\n",
    "    'район Лефортово': 113163,\n",
    "    'район Лианозово': 83759,\n",
    "    'район Люблино': 185286,\n",
    "    'район Марфино': 37549,\n",
    "    'район Марьина Роща': 62551,\n",
    "    'район Марьино': 273463,\n",
    "    'район Матушкино': 40220,\n",
    "    'район Метрогородок': 40798,\n",
    "    'район Митино': 198911,\n",
    "    'район Москворечье-Сабурово': 87843,\n",
    "    'район Нагатино-Садовники': 83794,\n",
    "    'район Нагатинский Затон': 121411,\n",
    "    'район Некрасовка': 115849,\n",
    "    'район Новогиреево': 99906,\n",
    "    'район Новокосино': 108479,\n",
    "    'район Орехово-Борисово Северное': 124071,\n",
    "    'район Отрадное': 188431,\n",
    "    'район Очаково-Матвеевское': 127231,\n",
    "    'район Перово': 133481,\n",
    "    'район Печатники': 90529,\n",
    "    'район Покровское-Стрешнево': 68688,\n",
    "    'район Преображенское': 89475,\n",
    "    'район Проспект Вернадского': 65913,\n",
    "    'район Раменки': 154283,\n",
    "    'район Ростокино': 52503,\n",
    "    'район Савёлки': 37862,\n",
    "    'район Свиблово': 60437,\n",
    "    'район Северное Бутово': 97376,\n",
    "    'район Северное Измайлово': 85448,\n",
    "    'район Северное Медведково': 130718,\n",
    "    'район Северное Тушино': 172664,\n",
    "    'район Северный': 56537,\n",
    "    'район Силино': 41971,\n",
    "    'район Сокол': 58217,\n",
    "    'район Соколиная Гора': 93960,\n",
    "    'район Сокольники': 60852,\n",
    "    'район Солнцево': 137612,\n",
    "    'район Старое Крюково': 41028,\n",
    "    'район Строгино': 162885,\n",
    "    'район Текстильщики': 102030,\n",
    "    'район Троицк': 127378,\n",
    "    'район Тёплый Стан': 133400,\n",
    "    'район Фили-Давыдково': 112759,\n",
    "    'район Филёвский Парк': 112403,\n",
    "    'район Хамовники': 108015,\n",
    "    'район Ховрино': 102047,\n",
    "    'район Хорошёво-Мнёвники': 183677,\n",
    "    'район Царицыно': 117967,\n",
    "    'район Чертаново Северное': 109627,\n",
    "    'район Чертаново Центральное': 111581,\n",
    "    'район Чертаново Южное': 156178,\n",
    "    'район Черёмушки': 108619,\n",
    "    'район Щербинка': 136323,\n",
    "    'район Щукино': 112002,\n",
    "    'район Южное Бутово': 182030,\n",
    "    'район Южное Медведково': 88821,\n",
    "    'район Южное Тушино': 113999,\n",
    "    'район Якиманка': 27416,\n",
    "    'район Ясенево': 176629\n",
    "}"
   ]
  },
  {
   "cell_type": "code",
   "execution_count": null,
   "id": "faba87f8",
   "metadata": {
    "hidden": true
   },
   "outputs": [],
   "source": [
    "# Заменяю значения населения районов на более точные из росстата\n",
    "for district in population_2024.keys():\n",
    "    main_df.loc[main_df.district_name == district, 'population_district_2023'] = population_2024.get(district)"
   ]
  },
  {
   "cell_type": "markdown",
   "id": "1fc448fb",
   "metadata": {
    "heading_collapsed": true
   },
   "source": [
    "## Feature engineering"
   ]
  },
  {
   "cell_type": "code",
   "execution_count": null,
   "id": "e8fd6db5",
   "metadata": {
    "hidden": true
   },
   "outputs": [],
   "source": [
    "# Вытащим все возможные временные данные\n",
    "main_df['month'] = main_df['timestamp'].dt.month\n",
    "main_df['day_name'] = main_df['timestamp'].dt.day_name()\n",
    "main_df['hour'] = main_df['timestamp'].dt.hour\n",
    "main_df['week_number'] = main_df['timestamp'].dt.isocalendar().week"
   ]
  },
  {
   "cell_type": "code",
   "execution_count": null,
   "id": "7440ba28",
   "metadata": {
    "hidden": true
   },
   "outputs": [],
   "source": [
    "# Список районов за МКАД (Новая Москва, Зеленоград, и пр.)\n",
    "outside_mkad = [\n",
    "    'Краснопахорский район', 'Филимонковский район', 'район Внуково',\n",
    "    'район Вороново', 'район Бекасово', 'район Коммунарка',\n",
    "    'район Крюково', 'район Матушкино', 'район Савёлки',\n",
    "    'район Силино', 'район Старое Крюково', 'район Троицк',\n",
    "    'район Щербинка', 'район Новокосино', 'район Косино-Ухтомский', 'район Некрасовка', 'район Восточный', 'район Северное Бутово',\n",
    "    'район Солнцево', 'район Ново-Переделкино', 'район Северный', 'Молжаниновский район', 'район Куркино', 'район Митино'\n",
    "]\n",
    "\n",
    "# Создаём булевый признак: True — внутри МКАД, False — за МКАД\n",
    "main_df['inside_mkad'] = ~main_df['district_name'].isin(outside_mkad)\n",
    "\n",
    "\n",
    "inside_sadovoe = [\n",
    "    'район Арбат', 'Тверской район', 'Мещанский район',\n",
    "    'район Якиманка', 'район Замоскворечье', 'Басманный район',\n",
    "    'Пресненский район', 'Таганский район', 'район Хамовники', 'Красносельский район'\n",
    "]\n",
    "\n",
    "# Булевый признак: находится ли район внутри Садового кольца\n",
    "main_df['inside_sadovoe'] = main_df['district_name'].isin(inside_sadovoe)\n",
    "\n",
    "\n",
    "inside_ttk = inside_sadovoe + [\n",
    "    'район Дорогомилово', 'район Сокольники', 'район Сокол',\n",
    "    'район Аэропорт', 'район Беговой', 'район Марьина Роща', 'район Лефортово', 'Донской район'\n",
    "]\n",
    "\n",
    "# Булевый признак: находится ли район внутри ТТК\n",
    "main_df['inside_ttk'] = main_df['district_name'].isin(inside_ttk)"
   ]
  },
  {
   "cell_type": "code",
   "execution_count": null,
   "id": "c1743004",
   "metadata": {
    "hidden": true
   },
   "outputs": [],
   "source": [
    "# Координаты центра Москвы \n",
    "center_lat, center_lon = 55.7558, 37.6176\n",
    "\n",
    "main_df['distance_to_center_km'] = 6371 * 2 * np.arcsin(\n",
    "    np.sqrt(\n",
    "        np.sin(np.radians((main_df['lat'] - center_lat) / 2))**2 +\n",
    "        np.cos(np.radians(center_lat)) * np.cos(np.radians(main_df['lat'])) *\n",
    "        np.sin(np.radians((main_df['lon'] - center_lon) / 2))**2\n",
    "    )\n",
    ")"
   ]
  },
  {
   "cell_type": "code",
   "execution_count": null,
   "id": "f4c0bc4e",
   "metadata": {
    "hidden": true
   },
   "outputs": [],
   "source": [
    "# Относительная стоимость квадратного метра\n",
    "main_df['price_relative'] = main_df['price_m2'] / main_df.groupby('administrative_region')['price_m2'].transform('mean')\n",
    "\n",
    "# Относительная загруженность метро\n",
    "main_df['station_load_relative'] = main_df['station_load_norm'] / main_df.groupby('administrative_region')['station_load_norm'].transform('mean')"
   ]
  },
  {
   "cell_type": "code",
   "execution_count": null,
   "id": "f76ddf50",
   "metadata": {
    "hidden": true
   },
   "outputs": [],
   "source": [
    "# Временной лаг такси 3ч, 6ч, 24ч, 7дней\n",
    "main_df['n_taxi_start_lag3'] = main_df.groupby('district_name')['n_taxi_start'].shift(3)\n",
    "main_df['n_taxi_start_lag6'] = main_df.groupby('district_name')['n_taxi_start'].shift(6)\n",
    "main_df['n_taxi_start_lag24'] = main_df.groupby('district_name')['n_taxi_start'].shift(24)\n",
    "main_df['n_taxi_start_lag7day'] = main_df.groupby('district_name')['n_taxi_start'].shift(168)\n",
    "\n",
    "# Временной лаг каршеринга\n",
    "main_df['n_carsharing_start_lag24'] = main_df.groupby('district_name')['n_carsharing_start'].shift(24)\n",
    "main_df['n_carsharing_start_lag168'] = main_df.groupby('district_name')['n_carsharing_start'].shift(168)"
   ]
  },
  {
   "cell_type": "code",
   "execution_count": null,
   "id": "961796bf",
   "metadata": {
    "hidden": true
   },
   "outputs": [],
   "source": [
    "# Скользящее среднее за 3ч, 6ч, 24ч, 7дней\n",
    "main_df['n_taxi_start_rolling3_mean'] = (\n",
    "    main_df.groupby('district_name')['n_taxi_start']\n",
    "    .transform(lambda x: x.shift(1).rolling(3, min_periods=1)\n",
    "    .mean()))\n",
    "main_df['n_taxi_start_rolling6_mean'] = (\n",
    "    main_df.groupby('district_name')['n_taxi_start']\n",
    "    .transform(lambda x: x.shift(1).rolling(6, min_periods=1)\n",
    "    .mean()))\n",
    "main_df['n_taxi_start_rolling24_mean'] = (\n",
    "    main_df.groupby('district_name')['n_taxi_start']\n",
    "    .transform(lambda x: x.shift(1).rolling(24, min_periods=1)\n",
    "    .mean()))\n",
    "main_df['n_taxi_start_rolling7day_mean'] = (\n",
    "    main_df.groupby('district_name')['n_taxi_start']\n",
    "    .transform(lambda x: x.shift(1).rolling(168, min_periods=1)\n",
    "    .mean()))"
   ]
  },
  {
   "cell_type": "code",
   "execution_count": null,
   "id": "f0bf424d",
   "metadata": {
    "hidden": true
   },
   "outputs": [],
   "source": [
    "#Погодные фичи\n",
    "main_df['is_heatwave'] = (main_df['temperature'] > 30).astype(int)\n",
    "main_df['is_freezing'] = (main_df['temperature'] < -5).astype(int)\n",
    "main_df['is_high_wind'] = (main_df['wind_speed'] > 10).astype(int)\n",
    "main_df['is_high_humidity'] = (main_df['humidity'] > 80).astype(int)\n",
    "main_df['is_good_weather'] = main_df['weather_code'].isin([1, 2]).astype(int)\n",
    "main_df['is_bad_weather'] = main_df['weather_code'].isin(range(7, 26)).astype(int)\n",
    "\n",
    "extreme_codes = [9, 11, 13, 16, 18, 20, 22, 23, 24, 25]\n",
    "main_df['is_extreme_weather'] = main_df['weather_code'].isin(extreme_codes).astype(int)"
   ]
  },
  {
   "cell_type": "markdown",
   "id": "91f9a44b",
   "metadata": {
    "hidden": true
   },
   "source": [
    "Добавим еще пару признаков для отслеживания динамики, в первую очередь добавляем первую производную, если результат меньше 0, происходит падение спроса, больше 0 соотвественно рост.\n",
    "\n",
    "Также добавляем разность за 2 часа, для отслуживания резких сдвигов.\n",
    "\n",
    "И самое главное добавляю разность между этими двумя показтелями, который будет отвечать за ускорение > 0 — тренд роста ускоряется, < 0 — тренд роста замедляется(или падение ускоряется), = 0 — стабильный тренд."
   ]
  },
  {
   "cell_type": "code",
   "execution_count": null,
   "id": "23136aab",
   "metadata": {
    "hidden": true
   },
   "outputs": [],
   "source": [
    "main_df['taxi_diff_1h'] = main_df.groupby('district_name')['n_taxi_start'].shift(1).diff(1)\n",
    "main_df['taxi_diff_2h'] = main_df.groupby('district_name')['n_taxi_start'].shift(1).diff(2)\n",
    "main_df['taxi_acceleration'] = main_df['taxi_diff_1h'] - main_df['taxi_diff_2h']"
   ]
  },
  {
   "cell_type": "code",
   "execution_count": null,
   "id": "3a2cf975",
   "metadata": {
    "hidden": true,
    "scrolled": true
   },
   "outputs": [],
   "source": [
    "main_df.isna().sum()"
   ]
  },
  {
   "cell_type": "code",
   "execution_count": null,
   "id": "76b630d2",
   "metadata": {
    "hidden": true
   },
   "outputs": [],
   "source": [
    "main_df.dropna(inplace=True)"
   ]
  },
  {
   "cell_type": "code",
   "execution_count": null,
   "id": "72e4af91",
   "metadata": {
    "hidden": true,
    "scrolled": true
   },
   "outputs": [],
   "source": [
    "main_df.isna().sum()"
   ]
  },
  {
   "cell_type": "markdown",
   "id": "73ed1dfe",
   "metadata": {},
   "source": [
    "## Модели"
   ]
  },
  {
   "cell_type": "markdown",
   "id": "fd4210e0",
   "metadata": {},
   "source": [
    "### Ridge"
   ]
  },
  {
   "cell_type": "code",
   "execution_count": null,
   "id": "e1c86127",
   "metadata": {},
   "outputs": [],
   "source": [
    "# Разбиваем датасет\n",
    "train = main_df[(main_df['timestamp']>='2024-01-08 00:00:00')&(main_df['timestamp']<='2024-09-30 23:00:00')]\n",
    "test =  main_df[(main_df['timestamp']>='2024-11-01 00:00:00')&(main_df['timestamp']<='2024-12-31 23:00:00')]\n",
    "valid = main_df[(main_df['timestamp']>='2024-10-01 00:00:00')&(main_df['timestamp']<='2024-10-31 23:00:00')]"
   ]
  },
  {
   "cell_type": "code",
   "execution_count": null,
   "id": "71944498",
   "metadata": {},
   "outputs": [],
   "source": [
    "cols_to_drop = [\"quarter\", \n",
    "                \"district_name\", \n",
    "                \"n_carsharing_start\", \n",
    "                \"timestamp\",\n",
    "                \"n_carsharing_end\", \n",
    "                \"lat\", \n",
    "                \"lon\", \n",
    "                \"n_taxi_end\", \n",
    "                \"administrative_region\",  \n",
    "                \"n_taxi_start\", \n",
    "                'n_taxi_start_lag3', \n",
    "                'n_taxi_start_lag6',\n",
    "                'n_taxi_start_lag24',\n",
    "                'n_taxi_start_lag7day',\n",
    "                'n_taxi_start_rolling3_mean',\n",
    "                'n_taxi_start_rolling6_mean',\n",
    "                'n_taxi_start_rolling24_mean', \n",
    "                'n_taxi_start_rolling7day_mean', \n",
    "                'taxi_diff_1h', \n",
    "                'taxi_diff_2h',\n",
    "                'n_carsharing_start_lag24',\n",
    "                'n_carsharing_start_lag168',\n",
    "                'station_load'\n",
    "                ]"
   ]
  },
  {
   "cell_type": "code",
   "execution_count": null,
   "id": "3acbb6e7",
   "metadata": {},
   "outputs": [],
   "source": [
    "X_train = train.drop(columns = cols_to_drop)\n",
    "y_train = train['n_taxi_start']\n",
    "\n",
    "X_test = test.drop(columns = cols_to_drop)\n",
    "y_test = test['n_taxi_start']\n",
    "\n",
    "X_valid = valid.drop(columns = cols_to_drop)\n",
    "y_valid = valid['n_taxi_start']"
   ]
  },
  {
   "cell_type": "code",
   "execution_count": null,
   "id": "c74f4596",
   "metadata": {},
   "outputs": [],
   "source": [
    "num_cols = [\"temperature\", \"precipitation\", \"humidity\", \"wind_speed\",\n",
    "            'price_relative', 'distance_to_center_km',\n",
    "            'taxi_acceleration', 'station_load_relative', \"price_m2\", \"population_district_2023\",\n",
    "            \"number_of_places\", \"population_near_metro\"]\n",
    "ohe_cols = [\"season\", \"day_name\"]\n",
    "col_trans = ColumnTransformer([\n",
    "  (('ohe'), OrdinalEncoder(),ohe_cols),\n",
    "  (\"scaler\", StandardScaler(), num_cols)\n",
    "], remainder='passthrough')"
   ]
  },
  {
   "cell_type": "code",
   "execution_count": null,
   "id": "356c720c",
   "metadata": {},
   "outputs": [],
   "source": [
    "def smape(A, F):\n",
    "    return 100/len(A) * np.sum(2 * np.abs(F - A) / (np.abs(A) + np.abs(F)))"
   ]
  },
  {
   "cell_type": "code",
   "execution_count": null,
   "id": "f566b6ca",
   "metadata": {},
   "outputs": [],
   "source": [
    "def train_model(model):\n",
    "    # Оборачиваем модель в pipeline\n",
    "    pipeline = Pipeline([\n",
    "        (\"col_trans\", col_trans),\n",
    "        (model.__class__.__name__, model)\n",
    "    ])\n",
    "    \n",
    "    # Обучение\n",
    "    pipeline.fit(X_train, y_train)\n",
    "    \n",
    "    # Предсказание на валидации\n",
    "    preds_valid = pipeline.predict(X_valid)\n",
    "\n",
    "    # Метрики на валидации\n",
    "    print(f\"\\n📈 Метрики на валидации {model.__class__.__name__}\")\n",
    "    print(f\"MSE:   {mean_squared_error(y_valid, preds_valid):.2f}\")\n",
    "    print(f\"MAE:   {mean_absolute_error(y_valid, preds_valid):.2f}\")\n",
    "    print(f\"R2:    {r2_score(y_valid, preds_valid):.3f}\")\n",
    "    print(f\"SMAPE: {smape(y_valid, preds_valid):.2f}\")\n",
    "\n",
    "    # Метрики по районам на валидации\n",
    "    cols_to_keep = [col for col in valid.columns if col not in cols_to_drop or col == 'district_name']\n",
    "    X_valid_district = valid[cols_to_keep].copy()\n",
    "    X_valid_district[\"y_valid\"] = y_valid\n",
    "    X_valid_district[\"preds\"] = preds_valid\n",
    "\n",
    "    district_metrics_valid = X_valid_district.groupby('district_name').apply(\n",
    "        lambda df: pd.Series({\n",
    "            'MAE': mean_absolute_error(df['y_valid'], df[\"preds\"]),\n",
    "            'MSE': mean_squared_error(df['y_valid'], df[\"preds\"]),\n",
    "            'R²': r2_score(df['y_valid'], df[\"preds\"]),\n",
    "            'SMAPE': smape(df['y_valid'], df[\"preds\"])\n",
    "        })\n",
    "    )\n",
    "\n",
    "    # Предсказание на тесте\n",
    "    preds_test = pipeline.predict(X_test)\n",
    "\n",
    "    # Метрики на тесте\n",
    "    print(f\"\\n📈 Метрики на тесте: {model.__class__.__name__} \")\n",
    "    print(f\"MSE:   {mean_squared_error(y_test, preds_test):.2f}\")\n",
    "    print(f\"MAE:   {mean_absolute_error(y_test, preds_test):.2f}\")\n",
    "    print(f\"R2:    {r2_score(y_test, preds_test):.3f}\")\n",
    "    print(f\"SMAPE: {smape(y_test, preds_test):.2f}\")\n",
    "\n",
    "    # Метрики по районам на тесте\n",
    "    X_test_district = test[cols_to_keep].copy()\n",
    "    X_test_district[\"y_test\"] = y_test\n",
    "    X_test_district[\"preds\"] = preds_test\n",
    "\n",
    "    district_metrics_test = X_test_district.groupby('district_name').apply(\n",
    "        lambda df: pd.Series({\n",
    "            'MAE': mean_absolute_error(df['y_test'], df[\"preds\"]),\n",
    "            'MSE': mean_squared_error(df['y_test'], df[\"preds\"]),\n",
    "            'R²': r2_score(df['y_test'], df[\"preds\"]),\n",
    "            'SMAPE': smape(df['y_test'], df[\"preds\"])\n",
    "        })\n",
    "    )\n",
    "    \n",
    "    # Предсказание на трейне\n",
    "    preds_train = pipeline.predict(X_train)\n",
    "    \n",
    "     # Метрики на тесте\n",
    "    print(f\"\\n📈 Метрики на трейне: {model.__class__.__name__} \")\n",
    "    print(f\"MSE:   {mean_squared_error(y_train, preds_train):.2f}\")\n",
    "    print(f\"MAE:   {mean_absolute_error(y_train, preds_train):.2f}\")\n",
    "    print(f\"R2:    {r2_score(y_train, preds_train):.3f}\")\n",
    "    print(f\"SMAPE: {smape(y_train, preds_train):.2f}\")\n",
    "\n",
    "    # Метрики по районам на тесте\n",
    "    X_train_district = train[cols_to_keep].copy()\n",
    "    X_train_district[\"y_train\"] = y_train\n",
    "    X_train_district[\"preds\"] = preds_train\n",
    "\n",
    "    district_metrics_test = X_train_district.groupby('district_name').apply(\n",
    "        lambda df: pd.Series({\n",
    "            'MAE': mean_absolute_error(df['y_train'], df[\"preds\"]),\n",
    "            'MSE': mean_squared_error(df['y_train'], df[\"preds\"]),\n",
    "            'R²': r2_score(df['y_train'], df[\"preds\"]),\n",
    "            'SMAPE': smape(df['y_train'], df[\"preds\"])\n",
    "        })\n",
    "    )\n",
    "\n",
    "    return pipeline, district_metrics_valid, district_metrics_test"
   ]
  },
  {
   "cell_type": "code",
   "execution_count": null,
   "id": "46493556",
   "metadata": {},
   "outputs": [],
   "source": [
    "lr, metrics_valid, metrics_test = train_model(Ridge())"
   ]
  },
  {
   "cell_type": "code",
   "execution_count": null,
   "id": "b8f674e2",
   "metadata": {},
   "outputs": [],
   "source": [
    "tscv = TimeSeriesSplit(n_splits=5)"
   ]
  },
  {
   "cell_type": "code",
   "execution_count": null,
   "id": "fb8b3bb9",
   "metadata": {},
   "outputs": [],
   "source": [
    "# Определяем диапазон значений alpha для регуляризации Ridge\n",
    "param_grid = {\n",
    "    \"Ridge__alpha\": np.arange(0.01, 1.0, 0.01)  # от 0.01 до 0.99\n",
    "}\n",
    "\n",
    "# Создаём pipeline: сначала обработка признаков, потом модель\n",
    "pipeline = Pipeline([\n",
    "    (\"col_trans\", col_trans),\n",
    "    (\"Ridge\", Ridge())\n",
    "])\n",
    "\n",
    "# Обёртываем pipeline в RandomizedSearchCV\n",
    "model = RandomizedSearchCV(\n",
    "    pipeline,\n",
    "    param_distributions=param_grid,\n",
    "    n_iter=20,                # число случайных комбинаций \n",
    "    cv=tscv,                     # 5-кратная кросс-валидация\n",
    "    scoring=\"neg_mean_absolute_error\", # метрика для оценки\n",
    "    random_state=42,\n",
    "    n_jobs=-1                 # использовать все ядра\n",
    ")\n",
    "\n",
    "model.fit(X_train, y_train)\n",
    "\n",
    "print(\"Лучший alpha:\", model.best_params_[\"Ridge__alpha\"])"
   ]
  },
  {
   "cell_type": "code",
   "execution_count": null,
   "id": "5bf734e9",
   "metadata": {},
   "outputs": [],
   "source": [
    "# Считаем метрики для подобранного параметра\n",
    "lr, metrics_valid, metrics_test = train_model(Ridge(0.98))"
   ]
  },
  {
   "cell_type": "markdown",
   "id": "264ca4f0",
   "metadata": {},
   "source": [
    "После подбора гиперпараметра альфа, качество модели осталось на том же уровне, изменений нет."
   ]
  },
  {
   "cell_type": "markdown",
   "id": "86266341",
   "metadata": {
    "heading_collapsed": true
   },
   "source": [
    "### RandomForestRegressor"
   ]
  },
  {
   "cell_type": "code",
   "execution_count": null,
   "id": "f1aa9824",
   "metadata": {
    "hidden": true
   },
   "outputs": [],
   "source": [
    "rf, metrics_valid, metrics_test = train_model(RandomForestRegressor(random_state = 42))"
   ]
  },
  {
   "cell_type": "code",
   "execution_count": null,
   "id": "f5d51665",
   "metadata": {
    "hidden": true
   },
   "outputs": [],
   "source": [
    "importances = rf.named_steps[\"RandomForestRegressor\"].feature_importances_\n",
    "importance_df = pd.DataFrame({\n",
    "    'Feature': X_valid.columns,\n",
    "    'Importance': importances\n",
    "}).sort_values('Importance', ascending=False)\n",
    "importance_df"
   ]
  },
  {
   "cell_type": "markdown",
   "id": "02715c97",
   "metadata": {
    "heading_collapsed": true
   },
   "source": [
    "### CatBoost"
   ]
  },
  {
   "cell_type": "code",
   "execution_count": null,
   "id": "97d581cf",
   "metadata": {
    "hidden": true
   },
   "outputs": [],
   "source": [
    "# Категориальные фичи\n",
    "cat_features = ['district_name',\n",
    "                'administrative_region',\n",
    "                'weather_code', \n",
    "                'rush_hour', \n",
    "                'season', \n",
    "                'is_holiday_or_weekend',\n",
    "                'quarter',\n",
    "                'day_name'\n",
    "               ]"
   ]
  },
  {
   "cell_type": "code",
   "execution_count": null,
   "id": "9e321b5d",
   "metadata": {
    "hidden": true
   },
   "outputs": [],
   "source": [
    "train = main_df[(main_df['timestamp']>='2024-01-08 00:00:00')&(main_df['timestamp']<='2024-11-30 23:00:00')]\n",
    "test =  main_df[(main_df['timestamp']>='2024-12-01 00:00:00')&(main_df['timestamp']<='2024-12-31 23:00:00')]"
   ]
  },
  {
   "cell_type": "code",
   "execution_count": null,
   "id": "2ee4e281",
   "metadata": {
    "hidden": true
   },
   "outputs": [],
   "source": [
    "train.shape"
   ]
  },
  {
   "cell_type": "code",
   "execution_count": null,
   "id": "5f2d8ec6",
   "metadata": {
    "hidden": true
   },
   "outputs": [],
   "source": [
    "test.shape"
   ]
  },
  {
   "cell_type": "code",
   "execution_count": null,
   "id": "b0b2c4aa",
   "metadata": {
    "hidden": true
   },
   "outputs": [],
   "source": [
    "X_train = train.drop(columns=['n_taxi_start', \n",
    "                              'n_taxi_end', \n",
    "                              'n_carsharing_start', \n",
    "                              'n_carsharing_end', \n",
    "                              'timestamp',\n",
    "                              'station_load'])\n",
    "y_train = train['n_taxi_start']\n",
    "\n",
    "X_test = test.drop(columns=['n_taxi_start', \n",
    "                            'n_taxi_end', \n",
    "                            'n_carsharing_start', \n",
    "                            'n_carsharing_end', \n",
    "                            'timestamp',\n",
    "                            'station_load'])\n",
    "y_test = test['n_taxi_start']"
   ]
  },
  {
   "cell_type": "code",
   "execution_count": null,
   "id": "63da095d",
   "metadata": {
    "hidden": true
   },
   "outputs": [],
   "source": [
    "# Производим инициализацию модели\n",
    "model_cat = CatBoostRegressor(\n",
    "              cat_features=cat_features,\n",
    "              random_seed=42,\n",
    "              verbose=False)"
   ]
  },
  {
   "cell_type": "code",
   "execution_count": null,
   "id": "f40d8f61",
   "metadata": {
    "hidden": true
   },
   "outputs": [],
   "source": [
    "# Обучение модели\n",
    "model_cat.fit(X_train, y_train)"
   ]
  },
  {
   "cell_type": "code",
   "execution_count": null,
   "id": "3687f1c7",
   "metadata": {
    "hidden": true
   },
   "outputs": [],
   "source": [
    "# Собираем предсказания и реальные значения в датасет\n",
    "predict_cat_test = model_cat.predict(X_test)\n",
    "pred_df_test = test[['timestamp', 'district_name']].copy()\n",
    "pred_df_test['y_true'] = y_test.values\n",
    "pred_df_test['y_pred'] = predict_cat_test.round().astype(int)"
   ]
  },
  {
   "cell_type": "code",
   "execution_count": null,
   "id": "5bc4aded",
   "metadata": {
    "hidden": true
   },
   "outputs": [],
   "source": [
    "districts = pred_df_test['district_name'].unique()\n",
    "\n",
    "fig = go.Figure()\n",
    "\n",
    "# Добавим следы (traces) для каждого района, но сделаем их невидимыми, кроме первого\n",
    "for i, district in enumerate(districts):\n",
    "    df_district = pred_df_test[pred_df_test['district_name'] == district]\n",
    "    \n",
    "    fig.add_trace(go.Scatter(x=df_district['timestamp'], y=df_district['y_true'],\n",
    "                             name='Факт',\n",
    "                             visible=(i == 0),\n",
    "                             legendgroup=district,\n",
    "                             line=dict(color='blue')))\n",
    "    \n",
    "    fig.add_trace(go.Scatter(x=df_district['timestamp'], y=df_district['y_pred'],\n",
    "                             name='Прогноз',\n",
    "                             visible=(i == 0),\n",
    "                             legendgroup=district,\n",
    "                             line=dict(color='red')))\n",
    "\n",
    "# Создаем список кнопок для каждого района\n",
    "buttons = []\n",
    "for i, district in enumerate(districts):\n",
    "    visibility = [False] * len(districts) * 2\n",
    "    visibility[2*i] = True     # Факт\n",
    "    visibility[2*i + 1] = True # Прогноз\n",
    "    \n",
    "    buttons.append(dict(label=district,\n",
    "                        method=\"update\",\n",
    "                        args=[{\"visible\": visibility},\n",
    "                              {\"title\": f\"Динамика поездок: {district}\"}]))\n",
    "\n",
    "\n",
    "fig.update_layout(\n",
    "    updatemenus=[\n",
    "        dict(\n",
    "            active=0,\n",
    "            buttons=buttons,\n",
    "            direction=\"down\",\n",
    "            x=1.05, \n",
    "            y=1.15,\n",
    "            showactive=True\n",
    "        )\n",
    "    ],\n",
    "    title=f\"Динамика поездок: {districts[0]}\",\n",
    "    xaxis_title=\"Дата и время\",\n",
    "    yaxis_title=\"Число поездок\",\n",
    "    legend_title=\"Тип\",\n",
    "    height=600\n",
    ")\n",
    "\n",
    "fig.show()"
   ]
  },
  {
   "cell_type": "markdown",
   "id": "854ad547",
   "metadata": {
    "hidden": true
   },
   "source": [
    "**Метрики:**"
   ]
  },
  {
   "cell_type": "code",
   "execution_count": null,
   "id": "86d44572",
   "metadata": {
    "hidden": true,
    "scrolled": true
   },
   "outputs": [],
   "source": [
    "# Считаем MSE для каждого района\n",
    "mse_by_district = pred_df_test.groupby('district_name').apply(lambda df: mean_squared_error(df['y_true'], df['y_pred']))\n",
    "mse_by_district.sort_values(ascending=False)\n",
    "# среднее МSЕ по районам\n",
    "mse_mean_test_cat = mse_by_district.mean().round(2)\n",
    "\n",
    "# Считаем MAE для каждого района\n",
    "mae_by_district = pred_df_test.groupby('district_name').apply(lambda df: mean_absolute_error(df['y_true'], df['y_pred']))\n",
    "mae_by_district.sort_values(ascending=False)\n",
    "# среднее МAЕ по районам\n",
    "mae_mean_test_cat = mae_by_district.mean().round(2)\n",
    "\n",
    "# Считаем SMAPE по каждому району\n",
    "smape_by_district = pred_df_test.groupby('district_name').apply(\n",
    "    lambda df: smape(df['y_true'], df['y_pred'])\n",
    ").reset_index(name='SMAPE')\n",
    "# среднее SMAPE по районам\n",
    "smape_mean_test_cat = smape_by_district['SMAPE'].mean().round(2)\n",
    "\n",
    "# Выводим\n",
    "print(\"\\n📈 Метрики на тесте:\")\n",
    "print(f'MAE (test): {mae_mean_test_cat:.4f}')\n",
    "print(f'MSE (test): {mse_mean_test_cat:.4f}')\n",
    "print(f'SMAPE (test): {smape_mean_test_cat:.4f}%')"
   ]
  },
  {
   "cell_type": "code",
   "execution_count": null,
   "id": "75733c40",
   "metadata": {
    "hidden": true
   },
   "outputs": [],
   "source": [
    "predict_cat_train = model_cat.predict(X_train)\n",
    "pred_df_train = train[['timestamp', 'district_name']].copy()\n",
    "pred_df_train['y_true'] = y_train.values\n",
    "pred_df_train['y_pred'] = predict_cat_train.round().astype(int)\n",
    "\n",
    "\n",
    "# Считаем MSE для каждого района\n",
    "mse_by_district = pred_df_train.groupby('district_name').apply(lambda df: mean_squared_error(df['y_true'], df['y_pred']))\n",
    "mse_by_district.sort_values(ascending=False)\n",
    "# среднее МSЕ по районам\n",
    "mse_mean_train_cat = mse_by_district.mean().round(2)\n",
    "\n",
    "# Считаем MAE для каждого района\n",
    "mae_by_district = pred_df_train.groupby('district_name').apply(lambda df: mean_absolute_error(df['y_true'], df['y_pred']))\n",
    "mae_by_district.sort_values(ascending=False)\n",
    "# среднее МAЕ по районам\n",
    "mae_mean_train_cat = mae_by_district.mean().round(2)\n",
    "\n",
    "# Считаем SMAPE по каждому району\n",
    "smape_by_district = pred_df_train.groupby('district_name').apply(\n",
    "    lambda df: smape(df['y_true'], df['y_pred'])\n",
    ").reset_index(name='SMAPE')\n",
    "# среднее SMAPE по районам\n",
    "smape_mean_train_cat = smape_by_district['SMAPE'].mean().round(2)\n",
    "\n",
    "# Выводим\n",
    "print(\"📉 Метрики на трейне:\")\n",
    "print(f'MAE (train): {mae_mean_train_cat:.4f}')\n",
    "print(f'MSE (train): {mse_mean_train_cat:.4f}')\n",
    "print(f'SMAPE (train): {smape_mean_train_cat:.4f}%')"
   ]
  },
  {
   "cell_type": "markdown",
   "id": "2fc26fc0",
   "metadata": {
    "hidden": true,
    "scrolled": false
   },
   "source": [
    "**Веса фичей:**"
   ]
  },
  {
   "cell_type": "code",
   "execution_count": null,
   "id": "45a5e2da",
   "metadata": {
    "hidden": true,
    "scrolled": false
   },
   "outputs": [],
   "source": [
    "# Смотрим на веса фичей.\n",
    "coef_table = pd.DataFrame({'feature' : list(X_train.columns),\n",
    "                           'weights' : model_cat.feature_importances_})\n",
    "coef_table.sort_values(by='weights', ascending=False).reset_index(drop=True)"
   ]
  },
  {
   "cell_type": "markdown",
   "id": "88d3705a",
   "metadata": {
    "hidden": true
   },
   "source": [
    "#### CatBoost с Кросс-Валидацией"
   ]
  },
  {
   "cell_type": "code",
   "execution_count": null,
   "id": "173ad281",
   "metadata": {
    "hidden": true
   },
   "outputs": [],
   "source": [
    "y = y = pd.concat([y_train, y_test], axis=0)\n",
    "X = pd.concat([X_train, X_test], axis=0)"
   ]
  },
  {
   "cell_type": "code",
   "execution_count": null,
   "id": "12e39170",
   "metadata": {
    "hidden": true
   },
   "outputs": [],
   "source": [
    "tscv = TimeSeriesSplit(n_splits=5)"
   ]
  },
  {
   "cell_type": "code",
   "execution_count": null,
   "id": "569d0a14",
   "metadata": {
    "hidden": true
   },
   "outputs": [],
   "source": [
    "mse_scores = []\n",
    "mae_scores = []\n",
    "smape_scores = []\n",
    "\n",
    "def smape(y_true, y_pred):\n",
    "    denominator = (np.abs(y_true) + np.abs(y_pred)) / 2\n",
    "    diff = np.abs(y_true - y_pred) / denominator\n",
    "    diff[denominator == 0] = 0.0\n",
    "    return np.mean(diff) * 100\n",
    "\n",
    "for train_index, test_index in tscv.split(X):\n",
    "    X_train, X_test = X.iloc[train_index], X.iloc[test_index]\n",
    "    y_train, y_test = y.iloc[train_index], y.iloc[test_index]\n",
    "    \n",
    "    model = CatBoostRegressor(\n",
    "        cat_features=cat_features,\n",
    "        random_seed=42,\n",
    "        verbose=False\n",
    "    )\n",
    "    \n",
    "    model.fit(X_train, y_train)\n",
    "    preds = model.predict(X_test)\n",
    "    \n",
    "    mse_scores.append(mean_squared_error(y_test, preds))\n",
    "    mae_scores.append(mean_absolute_error(y_test, preds))\n",
    "    smape_scores.append(smape(y_test, preds))\n",
    "\n",
    "# Усреднённые значения\n",
    "print(f\"Среднее MSE по 5 фолдам: {np.mean(mse_scores):.4f}\")\n",
    "print(f\"Среднее MAE по 5 фолдам: {np.mean(mae_scores):.4f}\")\n",
    "print(f\"Среднее SMAPE по 5 фолдам: {np.mean(smape_scores):.4f}%\")\n",
    "    "
   ]
  },
  {
   "cell_type": "markdown",
   "id": "62bce158",
   "metadata": {
    "heading_collapsed": true
   },
   "source": [
    "### XGBRegressor"
   ]
  },
  {
   "cell_type": "code",
   "execution_count": null,
   "id": "dac2c526",
   "metadata": {
    "hidden": true
   },
   "outputs": [],
   "source": [
    "# категориальыне фичи приводим к типу category\n",
    "main_df[cat_features] = main_df[cat_features].astype('category')"
   ]
  },
  {
   "cell_type": "code",
   "execution_count": null,
   "id": "c984799f",
   "metadata": {
    "hidden": true
   },
   "outputs": [],
   "source": [
    "train = main_df[(main_df['timestamp']>='2024-01-08 00:00:00')&(main_df['timestamp']<='2024-11-30 23:00:00')]\n",
    "test =  main_df[(main_df['timestamp']>='2024-12-01 00:00:00')&(main_df['timestamp']<='2024-12-31 23:00:00')]"
   ]
  },
  {
   "cell_type": "code",
   "execution_count": null,
   "id": "8befc9cc",
   "metadata": {
    "hidden": true
   },
   "outputs": [],
   "source": [
    "X_train = train.drop(columns=['n_taxi_start', \n",
    "                              'n_taxi_end', \n",
    "                              'n_carsharing_start', \n",
    "                              'n_carsharing_end', \n",
    "                              'timestamp',\n",
    "                              'station_load'])\n",
    "y_train = train['n_taxi_start']\n",
    "\n",
    "X_test = test.drop(columns=['n_taxi_start', \n",
    "                            'n_taxi_end', \n",
    "                            'n_carsharing_start', \n",
    "                            'n_carsharing_end', \n",
    "                            'timestamp',\n",
    "                            'station_load'])\n",
    "y_test = test['n_taxi_start']"
   ]
  },
  {
   "cell_type": "code",
   "execution_count": null,
   "id": "04d2c752",
   "metadata": {
    "hidden": true
   },
   "outputs": [],
   "source": [
    "model_xgb = XGBRegressor(random_state=42,\n",
    "                        enable_categorical=True)"
   ]
  },
  {
   "cell_type": "code",
   "execution_count": null,
   "id": "79f73e3f",
   "metadata": {
    "hidden": true
   },
   "outputs": [],
   "source": [
    "model_xgb.fit(X_train, y_train)"
   ]
  },
  {
   "cell_type": "code",
   "execution_count": null,
   "id": "79009164",
   "metadata": {
    "hidden": true
   },
   "outputs": [],
   "source": [
    "predict_xgb = model_xgb.predict(X_test)"
   ]
  },
  {
   "cell_type": "code",
   "execution_count": null,
   "id": "1d77e244",
   "metadata": {
    "hidden": true
   },
   "outputs": [],
   "source": [
    "pred_df = test[['timestamp', 'district_name']].copy()\n",
    "pred_df['y_true'] = y_test.values\n",
    "pred_df['y_pred'] = predict_xgb.round().astype(int)\n",
    "\n",
    "pred_df.head()"
   ]
  },
  {
   "cell_type": "code",
   "execution_count": null,
   "id": "74b998d5",
   "metadata": {
    "hidden": true
   },
   "outputs": [],
   "source": [
    "districts = pred_df['district_name'].unique()\n",
    "\n",
    "fig = go.Figure()\n",
    "\n",
    "# Добавим следы (traces) для каждого района, но сделаем их невидимыми, кроме первого\n",
    "for i, district in enumerate(districts):\n",
    "    df_district = pred_df[pred_df['district_name'] == district]\n",
    "    \n",
    "    fig.add_trace(go.Scatter(x=df_district['timestamp'], y=df_district['y_true'],\n",
    "                             name='Факт',\n",
    "                             visible=(i == 0),\n",
    "                             legendgroup=district,\n",
    "                             line=dict(color='blue')))\n",
    "    \n",
    "    fig.add_trace(go.Scatter(x=df_district['timestamp'], y=df_district['y_pred'],\n",
    "                             name='Прогноз',\n",
    "                             visible=(i == 0),\n",
    "                             legendgroup=district,\n",
    "                             line=dict(color='red')))\n",
    "\n",
    "# Создаем список кнопок для каждого района\n",
    "buttons = []\n",
    "for i, district in enumerate(districts):\n",
    "    visibility = [False] * len(districts) * 2\n",
    "    visibility[2*i] = True     # Факт\n",
    "    visibility[2*i + 1] = True # Прогноз\n",
    "    \n",
    "    buttons.append(dict(label=district,\n",
    "                        method=\"update\",\n",
    "                        args=[{\"visible\": visibility},\n",
    "                              {\"title\": f\"Динамика поездок: {district}\"}]))\n",
    "\n",
    "\n",
    "fig.update_layout(\n",
    "    updatemenus=[\n",
    "        dict(\n",
    "            active=0,\n",
    "            buttons=buttons,\n",
    "            direction=\"down\",\n",
    "            x=1.05, \n",
    "            y=1.15,\n",
    "            showactive=True\n",
    "        )\n",
    "    ],\n",
    "    title=f\"Динамика поездок: {districts[0]}\",\n",
    "    xaxis_title=\"Дата и время\",\n",
    "    yaxis_title=\"Число поездок\",\n",
    "    legend_title=\"Тип\",\n",
    "    height=600\n",
    ")\n",
    "\n",
    "fig.show()"
   ]
  },
  {
   "cell_type": "markdown",
   "id": "8ad638da",
   "metadata": {
    "hidden": true
   },
   "source": [
    "**Метрики:**"
   ]
  },
  {
   "cell_type": "code",
   "execution_count": null,
   "id": "180e9f33",
   "metadata": {
    "hidden": true
   },
   "outputs": [],
   "source": [
    "predict_xgb_test = model_xgb.predict(X_test)\n",
    "pred_df_test = test[['timestamp', 'district_name']].copy()\n",
    "pred_df_test['y_true'] = y_test.values\n",
    "pred_df_test['y_pred'] = predict_xgb_test.round().astype(int)\n",
    "\n",
    "\n",
    "# Считаем MSE для каждого района\n",
    "mse_by_district = pred_df_test.groupby('district_name').apply(lambda df: mean_squared_error(df['y_true'], df['y_pred']))\n",
    "mse_by_district.sort_values(ascending=False)\n",
    "# среднее МSЕ по районам\n",
    "mse_mean_test_xgb = mse_by_district.mean().round(2)\n",
    "\n",
    "# Считаем MAE для каждого района\n",
    "mae_by_district = pred_df_test.groupby('district_name').apply(lambda df: mean_absolute_error(df['y_true'], df['y_pred']))\n",
    "mae_by_district.sort_values(ascending=False)\n",
    "# среднее МAЕ по районам\n",
    "mae_mean_test_xgb = mae_by_district.mean().round(2)\n",
    "\n",
    "# Считаем SMAPE по каждому району\n",
    "smape_by_district = pred_df_test.groupby('district_name').apply(\n",
    "    lambda df: smape(df['y_true'], df['y_pred'])\n",
    ").reset_index(name='SMAPE')\n",
    "# среднее SMAPE по районам\n",
    "smape_mean_test_xgb = smape_by_district['SMAPE'].mean().round(2)\n",
    "\n",
    "# Выводим\n",
    "print(\"\\n📈 Метрики на тесте:\")\n",
    "print(f'MAE (test): {mae_mean_test_xgb:.4f}')\n",
    "print(f'MSE (test): {mse_mean_test_xgb:.4f}')\n",
    "print(f'SMAPE (test): {smape_mean_test_xgb:.4f}%')"
   ]
  },
  {
   "cell_type": "code",
   "execution_count": null,
   "id": "a5a58161",
   "metadata": {
    "hidden": true
   },
   "outputs": [],
   "source": [
    "predict_xgb_train = model_xgb.predict(X_train)\n",
    "pred_df_train = train[['timestamp', 'district_name']].copy()\n",
    "pred_df_train['y_true'] = y_train.values\n",
    "pred_df_train['y_pred'] = predict_xgb_train.round().astype(int)\n",
    "\n",
    "\n",
    "# Считаем MSE для каждого района\n",
    "mse_by_district = pred_df_train.groupby('district_name').apply(lambda df: mean_squared_error(df['y_true'], df['y_pred']))\n",
    "mse_by_district.sort_values(ascending=False)\n",
    "# среднее МSЕ по районам\n",
    "mse_mean_train_xgb = mse_by_district.mean().round(2)\n",
    "\n",
    "# Считаем MAE для каждого района\n",
    "mae_by_district = pred_df_train.groupby('district_name').apply(lambda df: mean_absolute_error(df['y_true'], df['y_pred']))\n",
    "mae_by_district.sort_values(ascending=False)\n",
    "# среднее МAЕ по районам\n",
    "mae_mean_train_xgb = mae_by_district.mean().round(2)\n",
    "\n",
    "# Считаем SMAPE по каждому району\n",
    "smape_by_district = pred_df_train.groupby('district_name').apply(\n",
    "    lambda df: smape(df['y_true'], df['y_pred'])\n",
    ").reset_index(name='SMAPE')\n",
    "# среднее SMAPE по районам\n",
    "smape_mean_train_xgb = smape_by_district['SMAPE'].mean().round(2)\n",
    "\n",
    "# Выводим\n",
    "print(\"📉 Метрики на трейне:\")\n",
    "print(f'MAE (train): {mae_mean_train_xgb:.4f}')\n",
    "print(f'MSE (train): {mse_mean_train_xgb:.4f}')\n",
    "print(f'SMAPE (train): {smape_mean_train_xgb:.4f}%')"
   ]
  },
  {
   "cell_type": "markdown",
   "id": "fc565283",
   "metadata": {
    "hidden": true
   },
   "source": [
    "**Веса фичей**"
   ]
  },
  {
   "cell_type": "code",
   "execution_count": null,
   "id": "1d72d30b",
   "metadata": {
    "hidden": true
   },
   "outputs": [],
   "source": [
    "# Смотрим на веса фичей.\n",
    "coef_table_xgb = pd.DataFrame({'feature' : list(X_train.columns),\n",
    "                           'weights' : model_xgb.feature_importances_})\n",
    "coef_table_xgb.sort_values(by='weights', ascending=False).reset_index(drop=True)"
   ]
  },
  {
   "cell_type": "markdown",
   "id": "ba3b6ddb",
   "metadata": {
    "heading_collapsed": true
   },
   "source": [
    "### ETNA"
   ]
  },
  {
   "cell_type": "code",
   "execution_count": null,
   "id": "4dabd74e",
   "metadata": {
    "hidden": true
   },
   "outputs": [],
   "source": [
    "from etna.datasets.tsdataset import TSDataset\n",
    "from etna.models import CatBoostMultiSegmentModel, CatBoostPerSegmentModel\n",
    "from etna.pipeline import Pipeline\n",
    "from etna.transforms import (TimeSeriesImputerTransform, \n",
    "                             LagTransform, \n",
    "                             MeanTransform, \n",
    "                             DateFlagsTransform, \n",
    "                             HolidayTransform, \n",
    "                             FourierTransform, \n",
    "                             LinearTrendTransform, \n",
    "                             SegmentEncoderTransform, \n",
    "                             StdTransform)\n",
    "from etna.metrics import SMAPE, MAE, MSE"
   ]
  },
  {
   "cell_type": "markdown",
   "id": "8e2753ae",
   "metadata": {
    "hidden": true
   },
   "source": [
    "#### Без экзогенных данных"
   ]
  },
  {
   "cell_type": "code",
   "execution_count": null,
   "id": "408b9342",
   "metadata": {
    "hidden": true
   },
   "outputs": [],
   "source": [
    "# метрики, которые будем считать\n",
    "smape = SMAPE()\n",
    "mse = MSE()\n",
    "mae = MAE()"
   ]
  },
  {
   "cell_type": "code",
   "execution_count": null,
   "id": "09f19421",
   "metadata": {
    "hidden": true
   },
   "outputs": [],
   "source": [
    "# Подготовка данных\n",
    "target_df = main_df[['timestamp', 'district_name', 'n_taxi_start']]\n",
    "target_df = target_df.rename(columns={'district_name': 'segment', 'n_taxi_start': 'target'})\n",
    "\n",
    "ts_data = TSDataset.to_dataset(target_df)\n",
    "ts = TSDataset(df=ts_data, freq=\"h\")\n",
    "\n",
    "# Все трансформеры\n",
    "transforms = [\n",
    "    TimeSeriesImputerTransform(), #  Заполняет пропущенные значения в target\n",
    "    LagTransform(in_column=\"target\", out_column=\"lag\", lags=[3, 6, 24, 48, 720]), # лаги\n",
    "    MeanTransform(in_column=\"target\", out_column=\"mean\", window=24), #скользящее среднее\n",
    "    DateFlagsTransform(out_column=\"date_flags\", \n",
    "                       day_number_in_week=True, # День недели (0-6)\n",
    "                       day_number_in_month=True, # День месяца (1-31)\n",
    "                       week_number_in_month=True, # Неделя в месяце\n",
    "                       week_number_in_year=True, # Неделя в году\n",
    "                       is_weekend=True,  # Булев флаг: выходной ли\n",
    "                       special_days_in_week=[5,6]), # Флаги на субботу и воскресенье\n",
    "    SegmentEncoderTransform(), # Кодирует категориальные сегментные признаки (например, название района) в числовую форму.\n",
    "    FourierTransform(period=24, order=3), # Добавляет синусоиды и косинусоиды для моделирования периодичности\n",
    "    FourierTransform(period=24*7, order=3),\n",
    "    StdTransform(in_column=\"target\", out_column=\"std_24h\", window=24), # Добавляет скользящее стандартное отклонение \n",
    "    StdTransform(in_column=\"target\", out_column=\"std_24h\", window=48), #(волатильность) за период\n",
    "    HolidayTransform(out_column=\"holiday\", iso_code=\"RU\") # Добавляет бинарный флаг: является ли день праздником в России\n",
    "]\n",
    "\n",
    "# Объявляем модель и пайплайн\n",
    "model = CatBoostPerSegmentModel(\n",
    "    random_seed=42\n",
    ")\n",
    "pipeline = Pipeline(model=model, transforms=transforms, horizon=24*30)\n",
    "\n",
    "# Делим и учим\n",
    "train_ts, test_ts = ts.train_test_split(train_start='2024-01-01 00:00:00',\n",
    "                                        train_end='2024-11-30 23:00:00',\n",
    "                                        test_start='2024-12-01 00:00:00',\n",
    "                                        test_end='2024-12-31 23:00:00')\n",
    "\n",
    "\n",
    "# train_ts, test_ts = ts.train_test_split(test_size=24*30)\n",
    "pipeline.fit(train_ts)\n",
    "\n",
    "# Прогноз\n",
    "forecast = pipeline.forecast()"
   ]
  },
  {
   "cell_type": "code",
   "execution_count": null,
   "id": "ea62838a",
   "metadata": {
    "hidden": true
   },
   "outputs": [],
   "source": [
    "districts = forecast.segments  # список всех районов из прогноза\n",
    "fig = go.Figure()\n",
    "\n",
    "for i, segment in enumerate(districts):\n",
    "    # Берём данные\n",
    "    test_part = test_ts[:, segment, \"target\"]\n",
    "    forecast_part = forecast[:, segment, \"target\"]\n",
    "    \n",
    "    # Реальные значения\n",
    "    fig.add_trace(go.Scatter(\n",
    "        x=test_part.index,\n",
    "        y=test_part.values,\n",
    "        name=\"Реальные\",\n",
    "        visible=(i == 0),\n",
    "        legendgroup=segment,\n",
    "        line=dict(color=\"black\", width=2),\n",
    "        opacity=0.4\n",
    "    ))\n",
    "\n",
    "    # Прогноз\n",
    "    fig.add_trace(go.Scatter(\n",
    "        x=forecast_part.index,\n",
    "        y=forecast_part.values,\n",
    "        name=\"Прогноз\",\n",
    "        visible=(i == 0),\n",
    "        legendgroup=segment,\n",
    "        line=dict(color=\"red\", width=2),\n",
    "    ))\n",
    "\n",
    "buttons = []\n",
    "for i, segment in enumerate(districts):\n",
    "    visibility = [False] * len(districts) * 2\n",
    "    visibility[2 * i] = True     # Реальные\n",
    "    visibility[2 * i + 1] = True # Прогноз\n",
    "\n",
    "    buttons.append(dict(\n",
    "        label=segment,\n",
    "        method=\"update\",\n",
    "        args=[\n",
    "            {\"visible\": visibility},\n",
    "            {\"title\": f\"Прогноз поездок: {segment}\"}\n",
    "        ]\n",
    "    ))\n",
    "\n",
    "# Настройки графика\n",
    "fig.update_layout(\n",
    "    updatemenus=[\n",
    "        dict(\n",
    "            active=0,\n",
    "            buttons=buttons,\n",
    "            direction=\"down\",\n",
    "            x=1.05,\n",
    "            y=1.15,\n",
    "            showactive=True\n",
    "        )\n",
    "    ],\n",
    "    title=f\"Прогноз поездок: {districts[0]}\",\n",
    "    xaxis_title=\"Дата и время\",\n",
    "    yaxis_title=\"Число поездок\",\n",
    "    legend_title=\"Тип линии\",\n",
    "    height=600\n",
    ")\n",
    "\n",
    "fig.show()"
   ]
  },
  {
   "cell_type": "markdown",
   "id": "4bcd7884",
   "metadata": {
    "hidden": true
   },
   "source": [
    "**Метрики:**"
   ]
  },
  {
   "cell_type": "code",
   "execution_count": null,
   "id": "dbe06805",
   "metadata": {
    "hidden": true
   },
   "outputs": [],
   "source": [
    "# Получим предсказания на тех же данных, на которых обучались\n",
    "train_predictions = pipeline.predict(train_ts)\n",
    "\n",
    "\n",
    "metrics = {\n",
    "    \"MAE\": MAE(mode=\"macro\"),\n",
    "    \"MSE\": MSE(mode=\"macro\"),\n",
    "    \"SMAPE\": SMAPE(mode=\"macro\")\n",
    "}\n",
    "\n",
    "print(\"📉 Метрики на трейне:\")\n",
    "for name, metric in metrics.items():\n",
    "    score = metric(train_ts, train_predictions)\n",
    "    print(f\"{name}: {score:.4f}\")\n",
    "\n",
    "print(\"\\n📈 Метрики на тесте:\")\n",
    "for name, metric in metrics.items():\n",
    "    score = metric(test_ts, forecast)\n",
    "    print(f\"{name}: {score:.4f}\")"
   ]
  },
  {
   "cell_type": "markdown",
   "id": "fa754478",
   "metadata": {
    "hidden": true
   },
   "source": [
    "**Веса фичей:**"
   ]
  },
  {
   "cell_type": "code",
   "execution_count": null,
   "id": "b6a7ccbf",
   "metadata": {
    "hidden": true
   },
   "outputs": [],
   "source": [
    "# Получаем словарь моделей по сегментам\n",
    "models_dict = pipeline.model.get_model()\n",
    "\n",
    "feature_importances_list = []\n",
    "\n",
    "for segment, model in models_dict.items():\n",
    "    importances = model.feature_importances_\n",
    "    features = model.feature_names_\n",
    "    df = pd.DataFrame({\n",
    "            \"feature\": features,\n",
    "            \"importance\": importances,\n",
    "            \"segment\": segment\n",
    "        })\n",
    "    feature_importances_list.append(df)\n",
    "    \n",
    "df_importances = pd.concat(feature_importances_list, ignore_index=True)"
   ]
  },
  {
   "cell_type": "code",
   "execution_count": null,
   "id": "df59dbea",
   "metadata": {
    "hidden": true
   },
   "outputs": [],
   "source": [
    "mean_importance = df_importances.groupby(\"feature\")[\"importance\"].mean().sort_values(ascending=False)\n",
    "print(mean_importance)"
   ]
  },
  {
   "cell_type": "markdown",
   "id": "722139bb",
   "metadata": {
    "hidden": true
   },
   "source": [
    "#### C экзогенными данными"
   ]
  },
  {
   "cell_type": "code",
   "execution_count": null,
   "id": "d7b109ac",
   "metadata": {
    "hidden": true
   },
   "outputs": [],
   "source": [
    "target_df = main_df[main_df['timestamp'] <= '2024-12-30 22:00:00'][['timestamp', 'district_name', 'n_taxi_start']].copy()\n",
    "target_df = target_df.rename(columns={'district_name': 'segment', 'n_taxi_start': 'target'})\n",
    "\n",
    "exog_df = main_df[['timestamp', 'district_name'] + [\n",
    "    'temperature', 'precipitation', 'humidity', 'wind_speed',\n",
    "    'weather_code', 'rush_hour', 'season', 'is_holiday_or_weekend', 'quarter', 'number_of_stations', \n",
    "    'number_of_places', 'population_district_2023', 'population_near_metro', 'price_m2',\n",
    "    'administrative_region', 'month', 'day_name', 'hour',\n",
    "    'week_number', 'distance_to_center_km'\n",
    "]].copy()\n",
    "\n",
    "# Переименуем и приведем к категориальному типу\n",
    "exog_df = exog_df.rename(columns={'district_name': 'segment'})\n",
    "\n",
    "categorical_features = ['administrative_region', 'season', 'day_name', 'quarter']\n",
    "exog_df[categorical_features] = exog_df[categorical_features].astype('category')\n",
    "\n",
    "# 3. Преобразуем в формат ETNA\n",
    "ts_data = TSDataset.to_dataset(target_df)\n",
    "exog_data = TSDataset.to_dataset(exog_df)\n",
    "\n",
    "# 4. Собираем TSDataset\n",
    "ts = TSDataset(\n",
    "    df=ts_data,\n",
    "    freq=\"H\",\n",
    "    df_exog=exog_data,\n",
    "    known_future=\"all\"\n",
    ")\n",
    "\n",
    "# 5. Трансформы\n",
    "transforms = [\n",
    "    TimeSeriesImputerTransform(),\n",
    "    LagTransform(in_column=\"target\", out_column=\"lag\", lags=[3, 6, 24, 48, 720]),\n",
    "    MeanTransform(in_column=\"target\", out_column=\"mean\", window=24),\n",
    "    DateFlagsTransform(\n",
    "        out_column=\"date_flags\",\n",
    "        day_number_in_week=True,\n",
    "        day_number_in_month=True,\n",
    "        week_number_in_month=True,\n",
    "        week_number_in_year=True,\n",
    "        is_weekend=True,\n",
    "        special_days_in_week=[5, 6]\n",
    "    ),\n",
    "    SegmentEncoderTransform(),  # <- автоматически закодирует категориальные признаки\n",
    "    FourierTransform(period=24, order=3),\n",
    "    FourierTransform(period=24 * 7, order=3),\n",
    "    HolidayTransform(out_column=\"holiday\", iso_code=\"RU\")\n",
    "]\n",
    "\n",
    "# 6. Модель и пайплайн\n",
    "model = CatBoostPerSegmentModel(random_seed=42)\n",
    "pipeline = Pipeline(model=model, transforms=transforms, horizon=24*30)\n",
    "\n",
    "# 7. Обучение и прогноз\n",
    "train_ts, test_ts = ts.train_test_split(test_size=24*30)\n",
    "pipeline.fit(train_ts)\n",
    "forecast = pipeline.forecast()\n"
   ]
  },
  {
   "cell_type": "code",
   "execution_count": null,
   "id": "565ac0d2",
   "metadata": {
    "hidden": true
   },
   "outputs": [],
   "source": [
    "\n",
    "districts = forecast.segments  # список всех районов из прогноза\n",
    "fig = go.Figure()\n",
    "\n",
    "# Добавим по 2 trace для каждого района: реальный (test) и прогноз (forecast)\n",
    "for i, segment in enumerate(districts):\n",
    "    # Берём данные\n",
    "    test_part = test_ts[:, segment, \"target\"]\n",
    "    forecast_part = forecast[:, segment, \"target\"]\n",
    "    \n",
    "    # Реальные значения\n",
    "    fig.add_trace(go.Scatter(\n",
    "        x=test_part.index,\n",
    "        y=test_part.values,\n",
    "        name=\"Реальные\",\n",
    "        visible=(i == 0),\n",
    "        legendgroup=segment,\n",
    "        line=dict(color=\"black\", width=2),\n",
    "        opacity=0.4\n",
    "    ))\n",
    "\n",
    "    # Прогноз\n",
    "    fig.add_trace(go.Scatter(\n",
    "        x=forecast_part.index,\n",
    "        y=forecast_part.values,\n",
    "        name=\"Прогноз\",\n",
    "        visible=(i == 0),\n",
    "        legendgroup=segment,\n",
    "        line=dict(color=\"orange\", dash=\"dash\", width=2),\n",
    "    ))\n",
    "\n",
    "# Кнопки для переключения\n",
    "buttons = []\n",
    "for i, segment in enumerate(districts):\n",
    "    visibility = [False] * len(districts) * 2\n",
    "    visibility[2 * i] = True     # Реальные\n",
    "    visibility[2 * i + 1] = True # Прогноз\n",
    "\n",
    "    buttons.append(dict(\n",
    "        label=segment,\n",
    "        method=\"update\",\n",
    "        args=[\n",
    "            {\"visible\": visibility},\n",
    "            {\"title\": f\"Прогноз поездок: {segment}\"}\n",
    "        ]\n",
    "    ))\n",
    "\n",
    "# Настройки графика\n",
    "fig.update_layout(\n",
    "    updatemenus=[\n",
    "        dict(\n",
    "            active=0,\n",
    "            buttons=buttons,\n",
    "            direction=\"down\",\n",
    "            x=1.05,\n",
    "            y=1.15,\n",
    "            showactive=True\n",
    "        )\n",
    "    ],\n",
    "    title=f\"Прогноз поездок: {districts[0]}\",\n",
    "    xaxis_title=\"Дата и время\",\n",
    "    yaxis_title=\"Число поездок\",\n",
    "    legend_title=\"Тип линии\",\n",
    "    height=600\n",
    ")\n",
    "\n",
    "fig.show()"
   ]
  },
  {
   "cell_type": "markdown",
   "id": "066a2f8b",
   "metadata": {
    "hidden": true
   },
   "source": [
    "**Метрики:**"
   ]
  },
  {
   "cell_type": "code",
   "execution_count": null,
   "id": "236d0bf5",
   "metadata": {
    "hidden": true
   },
   "outputs": [],
   "source": [
    "# Получим предсказания на тех же данных, на которых обучались\n",
    "train_predictions = pipeline.predict(train_ts)\n",
    "\n",
    "\n",
    "metrics = {\n",
    "    \"MAE\": MAE(mode=\"macro\"),\n",
    "    \"MSE\": MSE(mode=\"macro\"),\n",
    "    \"SMAPE\": SMAPE(mode=\"macro\")\n",
    "}\n",
    "\n",
    "print(\"📉 Метрики на трейне:\")\n",
    "for name, metric in metrics.items():\n",
    "    score = metric(train_ts, train_predictions)\n",
    "    print(f\"{name}: {score:.4f}\")\n",
    "\n",
    "print(\"\\n📈 Метрики на тесте:\")\n",
    "for name, metric in metrics.items():\n",
    "    score = metric(test_ts, forecast)\n",
    "    print(f\"{name}: {score:.4f}\")"
   ]
  },
  {
   "cell_type": "markdown",
   "id": "4a676513",
   "metadata": {
    "hidden": true
   },
   "source": [
    "**Веса фичей:**"
   ]
  },
  {
   "cell_type": "code",
   "execution_count": null,
   "id": "799467d7",
   "metadata": {
    "hidden": true
   },
   "outputs": [],
   "source": [
    "# Получаем словарь моделей по сегментам\n",
    "models_dict = pipeline.model.get_model()\n",
    "\n",
    "feature_importances_list = []\n",
    "\n",
    "for segment, model in models_dict.items():\n",
    "    importances = model.feature_importances_\n",
    "    features = model.feature_names_\n",
    "    df = pd.DataFrame({\n",
    "            \"feature\": features,\n",
    "            \"importance\": importances,\n",
    "            \"segment\": segment\n",
    "        })\n",
    "    feature_importances_list.append(df)\n",
    "    \n",
    "df_importances = pd.concat(feature_importances_list, ignore_index=True)"
   ]
  },
  {
   "cell_type": "code",
   "execution_count": null,
   "id": "a4e3a3ed",
   "metadata": {
    "hidden": true
   },
   "outputs": [],
   "source": [
    "mean_importance = df_importances.groupby(\"feature\")[\"importance\"].mean().sort_values(ascending=False)\n",
    "print(mean_importance)"
   ]
  },
  {
   "cell_type": "markdown",
   "id": "9f9f4ff3",
   "metadata": {},
   "source": [
    "## Общий вывод:\n",
    "\n",
    "   В рамках проекта была проведена комплексная работа по построению и сравнению пяти моделей для прогнозирования почасового количества поездок такси в районах Москвы. Для оценки качества моделей использовались метрики **MAE, MSE и SMAPE**.\n",
    "\n",
    "   В рамках подготовки данных был выполнен обширный **feature engineering** — процесс преобразования и обогащения исходных данных новыми признаками, чтобы повысить качество прогнозной модели. Были выделены следующие группы признаков:\n",
    "    \n",
    "- **Временные признаки:**\n",
    "    - Месяц, день недели, час, номер недели года — отражают сезонность и циклы активности пользователей.\n",
    "\t- Лаги и скользящие средние по числу поездок на такси и каршеринге — позволяют моделям учитывать инерцию поведения и краткосрочные тренды:\n",
    "\t- Лаги: 3ч, 6ч, 24ч, 7 суток;\n",
    "\t- Скользящее среднее: 3ч, 6ч, 24ч, 7 суток.\n",
    "    \n",
    "- **Пространственные признаки:**\n",
    "\t- Флаги “внутри Садового кольца”, “внутри ТТК”, “внутри МКАД” — отражают уровень урбанизации района.\n",
    "\t- Расстояние до центра Москвы — косвенно отражает транспортную доступность и плотность населения.\n",
    "    \n",
    "- **Социально-экономические:**\n",
    "\t- Относительная стоимость квадратного метра в районе — как прокси-индикатор престижности и платежеспособности населения.\n",
    "\t- Относительная загруженность метро — показывает уровень мобильности и доступности общественного транспорта.\n",
    "    \n",
    "- **Погодные фичи:**\n",
    "\t- Погодные аномалии — флаги экстремальных состояний: жара, мороз, сильный ветер, высокая влажность;\n",
    "\t- Категории “хорошая”, “плохая” и “экстремальная” погода по погодным кодам.\n",
    "    \n",
    "- **Производные поведенческие признаки:**\n",
    "\t- Разности и ускорения числа поездок — имитируют производные по времени (diff и acceleration) для отслеживания “разгона” спроса.\n",
    "    \n",
    "    \n",
    "\n",
    "| Модель                         | MAE (train) | MAE (test) | MSE (train) | MSE (test) | SMAPE (train), % | SMAPE (test), % |\n",
    "|-------------------------------|-------------|------------|-------------|------------|------------------|-----------------|\n",
    "| Ridge                         | 97.64       | 115.42     | 20689.55    | 28459.37   | 49.73            | 61.47           |\n",
    "| RandomForestRegressor          | 7.37        | 35.49      | 183.12      | 3937.36    | 3.97             | 14.19           |\n",
    "| CatBoost                      | 18.44       | 20.43      | 865.50      | 1158.12    | 10.08            | 10.07           |\n",
    "| XGBoost                       | 18.83       | 20.96      | 921.98      | 1246.61    | 10.21            | 10.00           |\n",
    "| CatBoost (ETNA без экзогенных) | 17.02       | 98.94      | 856.75      | 24096.85   | 8.93             | 38.16           |\n",
    "| CatBoost (ETNA с экзогенными)  | 15.62       | 72.71      | 721.11      | 15264.08   | 8.36             | 28.82           |\n",
    "\n",
    "**Основные результаты:**\n",
    "- **Ridge** — базовая линейная модель без учёта временных лагов и трендов. Продемонстрировала наибольшие ошибки и низкую точность на тестовой выборке (SMAPE 61.47%), что свидетельствует о недостаточной гибкости модели для данной задачи.\n",
    "- **RandomForestRegressor** — без временных лагов, но с пространственными и социально-экономическими признаками. Показала хорошие результаты по MAE и SMAPE на тесте (35.49 и 14.19% соответственно), однако значительная разница между тренировочными и тестовыми метриками указывает на склонность к переобучению.\n",
    "- **CatBoost и XGBoost** — градиентные бустинги, использующие широкий набор признаков, включая временные лаги и скользящие средние. Обе модели показали наилучшие и устойчивые результаты с SMAPE около 10% на тестовой выборке, что подтверждается кросс-валидацией.\n",
    "- **CatBoostPerSegmentModel (ETNA)** — модель с обучением по сегментам и использованием экзогенных признаков. Несмотря на хорошие показатели на тренировочных данных, демонстрирует значительное переобучение и ухудшение качества на тесте (SMAPE 28.82–38.16%).\n",
    "\n",
    "**Итоги:**\n",
    "\n",
    "**Оптимальным выбором является модель CatBoost** с временными лагами и скользящими средними, так как она обеспечивает лучшее качество и стабильность прогнозов. Модели без учёта временных признаков уступают по точности, а более сложные сегментированные модели требуют дополнительной настройки и борьбы с переобучением."
   ]
  }
 ],
 "metadata": {
  "kernelspec": {
   "display_name": "Python 3 (ipykernel)",
   "language": "python",
   "name": "python3"
  },
  "language_info": {
   "codemirror_mode": {
    "name": "ipython",
    "version": 3
   },
   "file_extension": ".py",
   "mimetype": "text/x-python",
   "name": "python",
   "nbconvert_exporter": "python",
   "pygments_lexer": "ipython3",
   "version": "3.11.5"
  },
  "toc": {
   "base_numbering": 1,
   "nav_menu": {
    "height": "286.992px",
    "width": "382.998px"
   },
   "number_sections": true,
   "sideBar": true,
   "skip_h1_title": true,
   "title_cell": "Table of Contents",
   "title_sidebar": "Contents",
   "toc_cell": true,
   "toc_position": {},
   "toc_section_display": true,
   "toc_window_display": false
  }
 },
 "nbformat": 4,
 "nbformat_minor": 5
}
